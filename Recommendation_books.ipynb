{
  "nbformat": 4,
  "nbformat_minor": 0,
  "metadata": {
    "colab": {
      "name": "Recommendation_books.ipynb",
      "provenance": [],
      "collapsed_sections": []
    },
    "kernelspec": {
      "name": "python3",
      "display_name": "Python 3"
    },
    "language_info": {
      "name": "python"
    },
    "accelerator": "GPU"
  },
  "cells": [
    {
      "cell_type": "markdown",
      "metadata": {
        "id": "qUMndGbpNv1u"
      },
      "source": [
        "This project uses this reference https://www.tensorflow.org/recommenders?hl=en to make recommandation books for an user using\n",
        "<font color='red'>building deep</font> retrieval models. \n",
        "\n",
        "\n",
        "\n"
      ]
    },
    {
      "cell_type": "markdown",
      "metadata": {
        "id": "6A5-9KD5zGXg"
      },
      "source": [
        "# The dataset"
      ]
    },
    {
      "cell_type": "markdown",
      "metadata": {
        "id": "VZcZRxsizJbB"
      },
      "source": [
        "The Books dataset is a classic dataset from kaggle page. It contains a set of ratings given to books by a set of users, and is a workhorse of recommender system research.\n",
        "\n",
        "The data can be treated in the following way:\n",
        "\n",
        "It can be interpreted as expressesing which books the users read (and rated), and which they did not, and it can also be seen as expressesing how much the users liked the books they did read. \n",
        "\n",
        "This is a form of explicit feedback: given that a user read a book, we can tell roughly how much they liked by looking at the rating they have given.\n",
        "\n",
        "In this project, we are focusing on a retrieval system: a model that predicts a set of books from the catalogue that the user is likely to read by looking at the rating another users have given.\n",
        "\n",
        "In this project, we will illustrate how to build deep retrieval models using TensorFlow Recommenders. "
      ]
    },
    {
      "cell_type": "markdown",
      "metadata": {
        "id": "8MmyM96pIcEg"
      },
      "source": [
        "# Import libraries"
      ]
    },
    {
      "cell_type": "markdown",
      "metadata": {
        "id": "3iwMtrtfzY1G"
      },
      "source": [
        "First get our imports out of the way."
      ]
    },
    {
      "cell_type": "code",
      "metadata": {
        "id": "7QXuCairIowz",
        "colab": {
          "base_uri": "https://localhost:8080/"
        },
        "outputId": "6762b682-22d9-4399-e30c-d4bc38fe2081"
      },
      "source": [
        "!pip install -q tensorflow-recommenders"
      ],
      "execution_count": 1,
      "outputs": [
        {
          "output_type": "stream",
          "text": [
            "\u001b[?25l\r\u001b[K     |████▏                           | 10kB 25.0MB/s eta 0:00:01\r\u001b[K     |████████▍                       | 20kB 21.8MB/s eta 0:00:01\r\u001b[K     |████████████▌                   | 30kB 16.4MB/s eta 0:00:01\r\u001b[K     |████████████████▊               | 40kB 14.6MB/s eta 0:00:01\r\u001b[K     |████████████████████▉           | 51kB 7.9MB/s eta 0:00:01\r\u001b[K     |█████████████████████████       | 61kB 9.2MB/s eta 0:00:01\r\u001b[K     |█████████████████████████████▎  | 71kB 8.6MB/s eta 0:00:01\r\u001b[K     |████████████████████████████████| 81kB 5.7MB/s \n",
            "\u001b[?25h"
          ],
          "name": "stdout"
        }
      ]
    },
    {
      "cell_type": "code",
      "metadata": {
        "id": "uqEAKZhhIl0m"
      },
      "source": [
        "import pandas as pd\n",
        "import os\n",
        "import tempfile\n",
        "\n",
        "%matplotlib inline\n",
        "import matplotlib.pyplot as plt\n",
        "import pandas as pd\n",
        "import numpy as np\n",
        "import tensorflow as tf\n",
        "import tensorflow_datasets as tfds\n",
        "\n",
        "import tensorflow_recommenders as tfrs\n",
        "\n",
        "plt.style.use('seaborn-whitegrid')"
      ],
      "execution_count": 2,
      "outputs": []
    },
    {
      "cell_type": "code",
      "metadata": {
        "id": "XF0ld548I07X",
        "colab": {
          "base_uri": "https://localhost:8080/"
        },
        "outputId": "cc317517-42b4-4c58-f25c-749e9f638ae5"
      },
      "source": [
        "print('Version of tensorflow is:', tf.__version__)"
      ],
      "execution_count": 3,
      "outputs": [
        {
          "output_type": "stream",
          "text": [
            "Version of tensorflow is: 2.5.0\n"
          ],
          "name": "stdout"
        }
      ]
    },
    {
      "cell_type": "markdown",
      "metadata": {
        "id": "fj59LCpYI3hT"
      },
      "source": [
        "# Read dataframe files from Google Drive"
      ]
    },
    {
      "cell_type": "code",
      "metadata": {
        "id": "37SNhE8EH_Jp"
      },
      "source": [
        "# To read csv file from Drive\n",
        "!pip install -U -q PyDrive\n",
        "from pydrive.auth import GoogleAuth\n",
        "from pydrive.drive import GoogleDrive\n",
        "from google.colab import auth\n",
        "from oauth2client.client import GoogleCredentials"
      ],
      "execution_count": 4,
      "outputs": []
    },
    {
      "cell_type": "code",
      "metadata": {
        "id": "KIeM2T40IXHC"
      },
      "source": [
        "auth.authenticate_user()\n",
        "gauth = GoogleAuth()\n",
        "gauth.credentials = GoogleCredentials.get_application_default()\n",
        "drive = GoogleDrive(gauth)"
      ],
      "execution_count": 5,
      "outputs": []
    },
    {
      "cell_type": "code",
      "metadata": {
        "id": "wb9mR9i_Im30"
      },
      "source": [
        "# https://drive.google.com/file/d/1zX4wqgmcd7EHmqPHqH--VKTSf50JqG4o/view?usp=sharing\n",
        "fileDownload1 = drive.CreateFile({'id':'1zX4wqgmcd7EHmqPHqH--VKTSf50JqG4o'})\n",
        "fileDownload1.GetContentFile('books.csv')\n",
        "\n",
        "# https://drive.google.com/file/d/1mHPCPwH9W9S-_WxZV1k-1cI7TjHfRPqX/view?usp=sharing\n",
        "fileDownload2 = drive.CreateFile({'id':'1mHPCPwH9W9S-_WxZV1k-1cI7TjHfRPqX'})\n",
        "fileDownload2.GetContentFile('ratings.csv')"
      ],
      "execution_count": 6,
      "outputs": []
    },
    {
      "cell_type": "markdown",
      "metadata": {
        "id": "WzwL8TaMJI-5"
      },
      "source": [
        "# Preparing the dataset"
      ]
    },
    {
      "cell_type": "markdown",
      "metadata": {
        "id": "3XqlEHeBz1sa"
      },
      "source": [
        "Let's have a look at the data."
      ]
    },
    {
      "cell_type": "code",
      "metadata": {
        "id": "Q6LMallhJGql"
      },
      "source": [
        "# Features of all the available books.\n",
        "books_df = pd.read_csv(\"books.csv\")\n",
        "\n",
        "# Ratings data.\n",
        "ratings_df = pd.read_csv(\"ratings.csv\")"
      ],
      "execution_count": 7,
      "outputs": []
    },
    {
      "cell_type": "code",
      "metadata": {
        "colab": {
          "base_uri": "https://localhost:8080/",
          "height": 425
        },
        "id": "2OvyzPr8wN8i",
        "outputId": "f068b96e-36e7-461b-c624-4310bd38cbcd"
      },
      "source": [
        "books_df.head(5)"
      ],
      "execution_count": 8,
      "outputs": [
        {
          "output_type": "execute_result",
          "data": {
            "text/html": [
              "<div>\n",
              "<style scoped>\n",
              "    .dataframe tbody tr th:only-of-type {\n",
              "        vertical-align: middle;\n",
              "    }\n",
              "\n",
              "    .dataframe tbody tr th {\n",
              "        vertical-align: top;\n",
              "    }\n",
              "\n",
              "    .dataframe thead th {\n",
              "        text-align: right;\n",
              "    }\n",
              "</style>\n",
              "<table border=\"1\" class=\"dataframe\">\n",
              "  <thead>\n",
              "    <tr style=\"text-align: right;\">\n",
              "      <th></th>\n",
              "      <th>book_id</th>\n",
              "      <th>goodreads_book_id</th>\n",
              "      <th>best_book_id</th>\n",
              "      <th>work_id</th>\n",
              "      <th>books_count</th>\n",
              "      <th>isbn</th>\n",
              "      <th>isbn13</th>\n",
              "      <th>authors</th>\n",
              "      <th>original_publication_year</th>\n",
              "      <th>original_title</th>\n",
              "      <th>title</th>\n",
              "      <th>language_code</th>\n",
              "      <th>average_rating</th>\n",
              "      <th>ratings_count</th>\n",
              "      <th>work_ratings_count</th>\n",
              "      <th>work_text_reviews_count</th>\n",
              "      <th>ratings_1</th>\n",
              "      <th>ratings_2</th>\n",
              "      <th>ratings_3</th>\n",
              "      <th>ratings_4</th>\n",
              "      <th>ratings_5</th>\n",
              "      <th>image_url</th>\n",
              "      <th>small_image_url</th>\n",
              "    </tr>\n",
              "  </thead>\n",
              "  <tbody>\n",
              "    <tr>\n",
              "      <th>0</th>\n",
              "      <td>1</td>\n",
              "      <td>2767052</td>\n",
              "      <td>2767052</td>\n",
              "      <td>2792775</td>\n",
              "      <td>272</td>\n",
              "      <td>439023483</td>\n",
              "      <td>9.780439e+12</td>\n",
              "      <td>Suzanne Collins</td>\n",
              "      <td>2008.0</td>\n",
              "      <td>The Hunger Games</td>\n",
              "      <td>The Hunger Games (The Hunger Games, #1)</td>\n",
              "      <td>eng</td>\n",
              "      <td>4.34</td>\n",
              "      <td>4780653</td>\n",
              "      <td>4942365</td>\n",
              "      <td>155254</td>\n",
              "      <td>66715</td>\n",
              "      <td>127936</td>\n",
              "      <td>560092</td>\n",
              "      <td>1481305</td>\n",
              "      <td>2706317</td>\n",
              "      <td>https://images.gr-assets.com/books/1447303603m...</td>\n",
              "      <td>https://images.gr-assets.com/books/1447303603s...</td>\n",
              "    </tr>\n",
              "    <tr>\n",
              "      <th>1</th>\n",
              "      <td>2</td>\n",
              "      <td>3</td>\n",
              "      <td>3</td>\n",
              "      <td>4640799</td>\n",
              "      <td>491</td>\n",
              "      <td>439554934</td>\n",
              "      <td>9.780440e+12</td>\n",
              "      <td>J.K. Rowling, Mary GrandPré</td>\n",
              "      <td>1997.0</td>\n",
              "      <td>Harry Potter and the Philosopher's Stone</td>\n",
              "      <td>Harry Potter and the Sorcerer's Stone (Harry P...</td>\n",
              "      <td>eng</td>\n",
              "      <td>4.44</td>\n",
              "      <td>4602479</td>\n",
              "      <td>4800065</td>\n",
              "      <td>75867</td>\n",
              "      <td>75504</td>\n",
              "      <td>101676</td>\n",
              "      <td>455024</td>\n",
              "      <td>1156318</td>\n",
              "      <td>3011543</td>\n",
              "      <td>https://images.gr-assets.com/books/1474154022m...</td>\n",
              "      <td>https://images.gr-assets.com/books/1474154022s...</td>\n",
              "    </tr>\n",
              "    <tr>\n",
              "      <th>2</th>\n",
              "      <td>3</td>\n",
              "      <td>41865</td>\n",
              "      <td>41865</td>\n",
              "      <td>3212258</td>\n",
              "      <td>226</td>\n",
              "      <td>316015849</td>\n",
              "      <td>9.780316e+12</td>\n",
              "      <td>Stephenie Meyer</td>\n",
              "      <td>2005.0</td>\n",
              "      <td>Twilight</td>\n",
              "      <td>Twilight (Twilight, #1)</td>\n",
              "      <td>en-US</td>\n",
              "      <td>3.57</td>\n",
              "      <td>3866839</td>\n",
              "      <td>3916824</td>\n",
              "      <td>95009</td>\n",
              "      <td>456191</td>\n",
              "      <td>436802</td>\n",
              "      <td>793319</td>\n",
              "      <td>875073</td>\n",
              "      <td>1355439</td>\n",
              "      <td>https://images.gr-assets.com/books/1361039443m...</td>\n",
              "      <td>https://images.gr-assets.com/books/1361039443s...</td>\n",
              "    </tr>\n",
              "    <tr>\n",
              "      <th>3</th>\n",
              "      <td>4</td>\n",
              "      <td>2657</td>\n",
              "      <td>2657</td>\n",
              "      <td>3275794</td>\n",
              "      <td>487</td>\n",
              "      <td>61120081</td>\n",
              "      <td>9.780061e+12</td>\n",
              "      <td>Harper Lee</td>\n",
              "      <td>1960.0</td>\n",
              "      <td>To Kill a Mockingbird</td>\n",
              "      <td>To Kill a Mockingbird</td>\n",
              "      <td>eng</td>\n",
              "      <td>4.25</td>\n",
              "      <td>3198671</td>\n",
              "      <td>3340896</td>\n",
              "      <td>72586</td>\n",
              "      <td>60427</td>\n",
              "      <td>117415</td>\n",
              "      <td>446835</td>\n",
              "      <td>1001952</td>\n",
              "      <td>1714267</td>\n",
              "      <td>https://images.gr-assets.com/books/1361975680m...</td>\n",
              "      <td>https://images.gr-assets.com/books/1361975680s...</td>\n",
              "    </tr>\n",
              "    <tr>\n",
              "      <th>4</th>\n",
              "      <td>5</td>\n",
              "      <td>4671</td>\n",
              "      <td>4671</td>\n",
              "      <td>245494</td>\n",
              "      <td>1356</td>\n",
              "      <td>743273567</td>\n",
              "      <td>9.780743e+12</td>\n",
              "      <td>F. Scott Fitzgerald</td>\n",
              "      <td>1925.0</td>\n",
              "      <td>The Great Gatsby</td>\n",
              "      <td>The Great Gatsby</td>\n",
              "      <td>eng</td>\n",
              "      <td>3.89</td>\n",
              "      <td>2683664</td>\n",
              "      <td>2773745</td>\n",
              "      <td>51992</td>\n",
              "      <td>86236</td>\n",
              "      <td>197621</td>\n",
              "      <td>606158</td>\n",
              "      <td>936012</td>\n",
              "      <td>947718</td>\n",
              "      <td>https://images.gr-assets.com/books/1490528560m...</td>\n",
              "      <td>https://images.gr-assets.com/books/1490528560s...</td>\n",
              "    </tr>\n",
              "  </tbody>\n",
              "</table>\n",
              "</div>"
            ],
            "text/plain": [
              "   book_id  ...                                    small_image_url\n",
              "0        1  ...  https://images.gr-assets.com/books/1447303603s...\n",
              "1        2  ...  https://images.gr-assets.com/books/1474154022s...\n",
              "2        3  ...  https://images.gr-assets.com/books/1361039443s...\n",
              "3        4  ...  https://images.gr-assets.com/books/1361975680s...\n",
              "4        5  ...  https://images.gr-assets.com/books/1490528560s...\n",
              "\n",
              "[5 rows x 23 columns]"
            ]
          },
          "metadata": {
            "tags": []
          },
          "execution_count": 8
        }
      ]
    },
    {
      "cell_type": "code",
      "metadata": {
        "colab": {
          "base_uri": "https://localhost:8080/",
          "height": 203
        },
        "id": "YqY2F-FQ0RXm",
        "outputId": "61403959-529f-498e-eee2-7fd3b59cfe2f"
      },
      "source": [
        "ratings_df.head(5)"
      ],
      "execution_count": 9,
      "outputs": [
        {
          "output_type": "execute_result",
          "data": {
            "text/html": [
              "<div>\n",
              "<style scoped>\n",
              "    .dataframe tbody tr th:only-of-type {\n",
              "        vertical-align: middle;\n",
              "    }\n",
              "\n",
              "    .dataframe tbody tr th {\n",
              "        vertical-align: top;\n",
              "    }\n",
              "\n",
              "    .dataframe thead th {\n",
              "        text-align: right;\n",
              "    }\n",
              "</style>\n",
              "<table border=\"1\" class=\"dataframe\">\n",
              "  <thead>\n",
              "    <tr style=\"text-align: right;\">\n",
              "      <th></th>\n",
              "      <th>user_id</th>\n",
              "      <th>book_id</th>\n",
              "      <th>rating</th>\n",
              "    </tr>\n",
              "  </thead>\n",
              "  <tbody>\n",
              "    <tr>\n",
              "      <th>0</th>\n",
              "      <td>1</td>\n",
              "      <td>258</td>\n",
              "      <td>5</td>\n",
              "    </tr>\n",
              "    <tr>\n",
              "      <th>1</th>\n",
              "      <td>2</td>\n",
              "      <td>4081</td>\n",
              "      <td>4</td>\n",
              "    </tr>\n",
              "    <tr>\n",
              "      <th>2</th>\n",
              "      <td>2</td>\n",
              "      <td>260</td>\n",
              "      <td>5</td>\n",
              "    </tr>\n",
              "    <tr>\n",
              "      <th>3</th>\n",
              "      <td>2</td>\n",
              "      <td>9296</td>\n",
              "      <td>5</td>\n",
              "    </tr>\n",
              "    <tr>\n",
              "      <th>4</th>\n",
              "      <td>2</td>\n",
              "      <td>2318</td>\n",
              "      <td>3</td>\n",
              "    </tr>\n",
              "  </tbody>\n",
              "</table>\n",
              "</div>"
            ],
            "text/plain": [
              "   user_id  book_id  rating\n",
              "0        1      258       5\n",
              "1        2     4081       4\n",
              "2        2      260       5\n",
              "3        2     9296       5\n",
              "4        2     2318       3"
            ]
          },
          "metadata": {
            "tags": []
          },
          "execution_count": 9
        }
      ]
    },
    {
      "cell_type": "code",
      "metadata": {
        "id": "-wYEHz9qrWwg"
      },
      "source": [
        "# !pip3 install spacy_langdetect"
      ],
      "execution_count": null,
      "outputs": []
    },
    {
      "cell_type": "code",
      "metadata": {
        "id": "JRA92gKWrNLj"
      },
      "source": [
        "# from spacy_langdetect import LanguageDetector\n",
        "# import spacy\n",
        "# nlp = spacy.load('en')\n",
        "# nlp.add_pipe(LanguageDetector(), name='language_detector', last=True)"
      ],
      "execution_count": null,
      "outputs": []
    },
    {
      "cell_type": "code",
      "metadata": {
        "id": "mf1RTYQ0r0HR"
      },
      "source": [
        "# language_title = []\n",
        "# for i in range(len(books_df['title'])):\n",
        "#   doc = nlp(books_df.loc[i,'title'])\n",
        "#   language_title.append(doc._.language['language'])\n",
        "#   print(i)\n"
      ],
      "execution_count": null,
      "outputs": []
    },
    {
      "cell_type": "code",
      "metadata": {
        "id": "fZRijPmlpUVK"
      },
      "source": [
        "# books_df.insert(10, \"language\", language_title)"
      ],
      "execution_count": null,
      "outputs": []
    },
    {
      "cell_type": "code",
      "metadata": {
        "id": "AtaBByO3cmVS"
      },
      "source": [
        "# from spacy_langdetect import LanguageDetector\n",
        "# import spacy\n",
        "# nlp = spacy.load('en')\n",
        "# nlp.add_pipe(LanguageDetector(), name='language_detector', last=True)\n",
        "# text_content = 'My name is Khaled'\n",
        "# doc = nlp(text_content)\n",
        "# nlp(text_content)._.language['language']\n",
        "# detect_language = doc._.language\n",
        "# books_df.drop(books_df[nlp(str(books_df.title))._.language['language'] == 'en'].index)\n"
      ],
      "execution_count": null,
      "outputs": []
    },
    {
      "cell_type": "markdown",
      "metadata": {
        "id": "xvJOe_KaN5V-"
      },
      "source": [
        "Create a new dataframe with two columns 'book id' and 'title' from books dataframe to use it after in order to add new column 'title' to ratings dataframe."
      ]
    },
    {
      "cell_type": "code",
      "metadata": {
        "id": "wZ09Mc8zN2RY"
      },
      "source": [
        "Books_id_title = books_df[['book_id','title']]"
      ],
      "execution_count": 10,
      "outputs": []
    },
    {
      "cell_type": "code",
      "metadata": {
        "id": "sRMpXr2XOEM5",
        "colab": {
          "base_uri": "https://localhost:8080/",
          "height": 203
        },
        "outputId": "1c41a65c-30b8-4bb4-df0f-4a3261b81268"
      },
      "source": [
        "Books_id_title.head(5)"
      ],
      "execution_count": 11,
      "outputs": [
        {
          "output_type": "execute_result",
          "data": {
            "text/html": [
              "<div>\n",
              "<style scoped>\n",
              "    .dataframe tbody tr th:only-of-type {\n",
              "        vertical-align: middle;\n",
              "    }\n",
              "\n",
              "    .dataframe tbody tr th {\n",
              "        vertical-align: top;\n",
              "    }\n",
              "\n",
              "    .dataframe thead th {\n",
              "        text-align: right;\n",
              "    }\n",
              "</style>\n",
              "<table border=\"1\" class=\"dataframe\">\n",
              "  <thead>\n",
              "    <tr style=\"text-align: right;\">\n",
              "      <th></th>\n",
              "      <th>book_id</th>\n",
              "      <th>title</th>\n",
              "    </tr>\n",
              "  </thead>\n",
              "  <tbody>\n",
              "    <tr>\n",
              "      <th>0</th>\n",
              "      <td>1</td>\n",
              "      <td>The Hunger Games (The Hunger Games, #1)</td>\n",
              "    </tr>\n",
              "    <tr>\n",
              "      <th>1</th>\n",
              "      <td>2</td>\n",
              "      <td>Harry Potter and the Sorcerer's Stone (Harry P...</td>\n",
              "    </tr>\n",
              "    <tr>\n",
              "      <th>2</th>\n",
              "      <td>3</td>\n",
              "      <td>Twilight (Twilight, #1)</td>\n",
              "    </tr>\n",
              "    <tr>\n",
              "      <th>3</th>\n",
              "      <td>4</td>\n",
              "      <td>To Kill a Mockingbird</td>\n",
              "    </tr>\n",
              "    <tr>\n",
              "      <th>4</th>\n",
              "      <td>5</td>\n",
              "      <td>The Great Gatsby</td>\n",
              "    </tr>\n",
              "  </tbody>\n",
              "</table>\n",
              "</div>"
            ],
            "text/plain": [
              "   book_id                                              title\n",
              "0        1            The Hunger Games (The Hunger Games, #1)\n",
              "1        2  Harry Potter and the Sorcerer's Stone (Harry P...\n",
              "2        3                            Twilight (Twilight, #1)\n",
              "3        4                              To Kill a Mockingbird\n",
              "4        5                                   The Great Gatsby"
            ]
          },
          "metadata": {
            "tags": []
          },
          "execution_count": 11
        }
      ]
    },
    {
      "cell_type": "markdown",
      "metadata": {
        "id": "Rp4l0_z9OJSn"
      },
      "source": [
        "Add a column 'title' to ratings using left union with the dataframe 'Books_id_title'"
      ]
    },
    {
      "cell_type": "code",
      "metadata": {
        "id": "EW0GXhLhU5Vs"
      },
      "source": [
        "ratings_df = pd.merge(ratings_df, Books_id_title, left_on=\"book_id\", right_on=\"book_id\", how=\"left\")"
      ],
      "execution_count": 12,
      "outputs": []
    },
    {
      "cell_type": "code",
      "metadata": {
        "colab": {
          "base_uri": "https://localhost:8080/",
          "height": 203
        },
        "id": "reb9ErftFoq6",
        "outputId": "cb587053-d51c-409e-8973-ac25bc1b4ca0"
      },
      "source": [
        "ratings_df.head(5)"
      ],
      "execution_count": 13,
      "outputs": [
        {
          "output_type": "execute_result",
          "data": {
            "text/html": [
              "<div>\n",
              "<style scoped>\n",
              "    .dataframe tbody tr th:only-of-type {\n",
              "        vertical-align: middle;\n",
              "    }\n",
              "\n",
              "    .dataframe tbody tr th {\n",
              "        vertical-align: top;\n",
              "    }\n",
              "\n",
              "    .dataframe thead th {\n",
              "        text-align: right;\n",
              "    }\n",
              "</style>\n",
              "<table border=\"1\" class=\"dataframe\">\n",
              "  <thead>\n",
              "    <tr style=\"text-align: right;\">\n",
              "      <th></th>\n",
              "      <th>user_id</th>\n",
              "      <th>book_id</th>\n",
              "      <th>rating</th>\n",
              "      <th>title</th>\n",
              "    </tr>\n",
              "  </thead>\n",
              "  <tbody>\n",
              "    <tr>\n",
              "      <th>0</th>\n",
              "      <td>1</td>\n",
              "      <td>258</td>\n",
              "      <td>5</td>\n",
              "      <td>The Shadow of the Wind (The Cemetery of Forgot...</td>\n",
              "    </tr>\n",
              "    <tr>\n",
              "      <th>1</th>\n",
              "      <td>2</td>\n",
              "      <td>4081</td>\n",
              "      <td>4</td>\n",
              "      <td>I am Charlotte Simmons</td>\n",
              "    </tr>\n",
              "    <tr>\n",
              "      <th>2</th>\n",
              "      <td>2</td>\n",
              "      <td>260</td>\n",
              "      <td>5</td>\n",
              "      <td>How to Win Friends and Influence People</td>\n",
              "    </tr>\n",
              "    <tr>\n",
              "      <th>3</th>\n",
              "      <td>2</td>\n",
              "      <td>9296</td>\n",
              "      <td>5</td>\n",
              "      <td>The Drama of the Gifted Child: The Search for ...</td>\n",
              "    </tr>\n",
              "    <tr>\n",
              "      <th>4</th>\n",
              "      <td>2</td>\n",
              "      <td>2318</td>\n",
              "      <td>3</td>\n",
              "      <td>The Millionaire Next Door: The Surprising Secr...</td>\n",
              "    </tr>\n",
              "  </tbody>\n",
              "</table>\n",
              "</div>"
            ],
            "text/plain": [
              "   user_id  book_id  rating                                              title\n",
              "0        1      258       5  The Shadow of the Wind (The Cemetery of Forgot...\n",
              "1        2     4081       4                             I am Charlotte Simmons\n",
              "2        2      260       5            How to Win Friends and Influence People\n",
              "3        2     9296       5  The Drama of the Gifted Child: The Search for ...\n",
              "4        2     2318       3  The Millionaire Next Door: The Surprising Secr..."
            ]
          },
          "metadata": {
            "tags": []
          },
          "execution_count": 13
        }
      ]
    },
    {
      "cell_type": "markdown",
      "metadata": {
        "id": "Twaaj-Tl4T2n"
      },
      "source": [
        "We need to convert values of 'user_id', 'book_id' and 'title' to str so fit with tensorflow-recommenders library."
      ]
    },
    {
      "cell_type": "code",
      "metadata": {
        "id": "eQn_4NAuIexy"
      },
      "source": [
        "ratings_df['user_id'] = ratings_df['user_id'].astype(str)\n",
        "ratings_df['book_id'] = ratings_df['book_id'].astype(str)"
      ],
      "execution_count": 14,
      "outputs": []
    },
    {
      "cell_type": "code",
      "metadata": {
        "colab": {
          "base_uri": "https://localhost:8080/"
        },
        "id": "T6LCdvZaLLcm",
        "outputId": "3d8b04f8-3dfc-40b4-f45c-779c547b50e5"
      },
      "source": [
        "ratings_df.dtypes"
      ],
      "execution_count": 15,
      "outputs": [
        {
          "output_type": "execute_result",
          "data": {
            "text/plain": [
              "user_id    object\n",
              "book_id    object\n",
              "rating      int64\n",
              "title      object\n",
              "dtype: object"
            ]
          },
          "metadata": {
            "tags": []
          },
          "execution_count": 15
        }
      ]
    },
    {
      "cell_type": "code",
      "metadata": {
        "id": "XLrmfwXkVEth"
      },
      "source": [
        "books_df['title'] = books_df['title'].astype(str)"
      ],
      "execution_count": 16,
      "outputs": []
    },
    {
      "cell_type": "markdown",
      "metadata": {
        "id": "8lgz3vZl5Hdu"
      },
      "source": [
        "Check if there are none value in ratings dataframe."
      ]
    },
    {
      "cell_type": "code",
      "metadata": {
        "id": "6d_ATqiQ-gYb",
        "colab": {
          "base_uri": "https://localhost:8080/"
        },
        "outputId": "103e862a-26e8-4755-b575-be39517bafc8"
      },
      "source": [
        "ratings_df.isna().sum()"
      ],
      "execution_count": 17,
      "outputs": [
        {
          "output_type": "execute_result",
          "data": {
            "text/plain": [
              "user_id    0\n",
              "book_id    0\n",
              "rating     0\n",
              "title      0\n",
              "dtype: int64"
            ]
          },
          "metadata": {
            "tags": []
          },
          "execution_count": 17
        }
      ]
    },
    {
      "cell_type": "markdown",
      "metadata": {
        "id": "74vpUkgm5Tt7"
      },
      "source": [
        "Now, this step is very important, we need to convert dataframe to tensorflow dataset that Tensorflow can read."
      ]
    },
    {
      "cell_type": "markdown",
      "metadata": {
        "id": "9EbzAwRlIAh6"
      },
      "source": [
        "We're going to focus on the ratings data. \n",
        "\n",
        "We keep only the user_id, book_id, title and rating fields in the dataset."
      ]
    },
    {
      "cell_type": "code",
      "metadata": {
        "id": "7FFk0FNpuDni"
      },
      "source": [
        "ratings = (\n",
        "    tf.data.Dataset.from_tensor_slices(\n",
        "        {\n",
        "            'user_id' : tf.cast(ratings_df['user_id'].values, tf.string),\n",
        "            'book_id': tf.cast(ratings_df['book_id'].values, tf.string),\n",
        "            'title': tf.cast(ratings_df['title'].values, tf.string),\n",
        "            'rating': tf.cast(ratings_df['rating'].values, tf.int64),\n",
        "\n",
        "        }\n",
        "    )\n",
        ")"
      ],
      "execution_count": 18,
      "outputs": []
    },
    {
      "cell_type": "code",
      "metadata": {
        "id": "0JpmDrEfoNu7",
        "colab": {
          "base_uri": "https://localhost:8080/"
        },
        "outputId": "ffb4c197-32d1-4325-f03b-142bf0d4f12b"
      },
      "source": [
        "ratings"
      ],
      "execution_count": 19,
      "outputs": [
        {
          "output_type": "execute_result",
          "data": {
            "text/plain": [
              "<TensorSliceDataset shapes: {user_id: (), book_id: (), title: (), rating: ()}, types: {user_id: tf.string, book_id: tf.string, title: tf.string, rating: tf.int64}>"
            ]
          },
          "metadata": {
            "tags": []
          },
          "execution_count": 19
        }
      ]
    },
    {
      "cell_type": "markdown",
      "metadata": {
        "id": "geSiU5tU59QV"
      },
      "source": [
        "The ratings dataset returns a dictionary of user id, book id, title and rating:"
      ]
    },
    {
      "cell_type": "code",
      "metadata": {
        "colab": {
          "base_uri": "https://localhost:8080/"
        },
        "id": "pq73C6GT6MAr",
        "outputId": "a2d21579-3af5-4af9-ef44-68a7a94c7bab"
      },
      "source": [
        "for x in ratings.take(1).as_numpy_iterator():\n",
        "  print(x)"
      ],
      "execution_count": 20,
      "outputs": [
        {
          "output_type": "stream",
          "text": [
            "{'user_id': b'1', 'book_id': b'258', 'title': b'The Shadow of the Wind (The Cemetery of Forgotten Books,  #1)', 'rating': 5}\n"
          ],
          "name": "stdout"
        }
      ]
    },
    {
      "cell_type": "code",
      "metadata": {
        "id": "kHdoqJ1k9igg"
      },
      "source": [
        "books = (\n",
        "    tf.data.Dataset.from_tensor_slices(\n",
        "        (\n",
        "         tf.cast(books_df['title'].values, tf.string)\n",
        "        )\n",
        "    )\n",
        ")"
      ],
      "execution_count": 21,
      "outputs": []
    },
    {
      "cell_type": "code",
      "metadata": {
        "id": "RFcOF5CVV2gz",
        "colab": {
          "base_uri": "https://localhost:8080/"
        },
        "outputId": "e075280d-2427-4905-dda1-619ac427c7de"
      },
      "source": [
        "books"
      ],
      "execution_count": 22,
      "outputs": [
        {
          "output_type": "execute_result",
          "data": {
            "text/plain": [
              "<TensorSliceDataset shapes: (), types: tf.string>"
            ]
          },
          "metadata": {
            "tags": []
          },
          "execution_count": 22
        }
      ]
    },
    {
      "cell_type": "markdown",
      "metadata": {
        "id": "9fOzeRyM6rbE"
      },
      "source": [
        "The books dataset contains the book title. Note that the genres are encoded with integer labels."
      ]
    },
    {
      "cell_type": "code",
      "metadata": {
        "colab": {
          "base_uri": "https://localhost:8080/"
        },
        "id": "y3UGIiTL6zI7",
        "outputId": "91d68e8e-4907-4102-9489-2e7668f99ea6"
      },
      "source": [
        "for x in books.take(1).as_numpy_iterator():\n",
        "  print(x)"
      ],
      "execution_count": 23,
      "outputs": [
        {
          "output_type": "stream",
          "text": [
            "b'The Hunger Games (The Hunger Games, #1)'\n"
          ],
          "name": "stdout"
        }
      ]
    },
    {
      "cell_type": "markdown",
      "metadata": {
        "id": "x1kQnv0DNg5D"
      },
      "source": [
        "Let's figure out unique user ids and movie titles present in the data.\n",
        "\n",
        "This is important because we need to be able to map the raw values of our categorical features to embedding vectors in our models. To do that, we need a vocabulary that maps a raw feature value to an integer in a contiguous range: this allows us to look up the corresponding embeddings in our embedding tables."
      ]
    },
    {
      "cell_type": "code",
      "metadata": {
        "id": "6gaxiKr5wikY"
      },
      "source": [
        "unique_books_titles = np.unique(np.concatenate(list(books.batch(1000))))"
      ],
      "execution_count": 24,
      "outputs": []
    },
    {
      "cell_type": "code",
      "metadata": {
        "colab": {
          "base_uri": "https://localhost:8080/"
        },
        "id": "CYB7GNh4nOcZ",
        "outputId": "d94cd0f1-af31-406a-ca26-5ec9db3a80ba"
      },
      "source": [
        "unique_books_titles"
      ],
      "execution_count": 25,
      "outputs": [
        {
          "output_type": "execute_result",
          "data": {
            "text/plain": [
              "array([b' Angels (Walsh Family, #3)',\n",
              "       b'\"\\xd8\\xad\\xd9\\x83\\xd8\\xa7\\xd9\\x8a\\xd8\\xa7\\xd8\\xaa \\xd9\\x81\\xd8\\xb1\\xd8\\xba\\xd9\\x84\\xd9\\x8a \\xd8\\xa7\\xd9\\x84\\xd9\\x85\\xd8\\xb3\\xd8\\xaa\\xd9\\x83\\xd8\\xa7\\xd9\\x88\\xd9\\x8a \"\\xd8\\xad\\xd9\\x83\\xd8\\xa7\\xd9\\x8a\\xd8\\xaa\\xd9\\x89 \\xd9\\x85\\xd8\\xb9 \\xd9\\x83\\xd9\\x81\\xd8\\xb1 \\xd8\\xa7\\xd9\\x84\\xd8\\xb3\\xd8\\xad\\xd9\\x84\\xd8\\xa7\\xd9\\x88\\xd9\\x8a\\xd8\\xa9',\n",
              "       b'#GIRLBOSS', ...,\n",
              "       b'\\xda\\xa4\\xd9\\x8a\\xd8\\xb1\\xd8\\xaa\\xd9\\x8a\\xd8\\xac\\xd9\\x88',\n",
              "       b'\\xe3\\x82\\xad\\xe3\\x82\\xb9\\xe3\\x82\\x88\\xe3\\x82\\x8a\\xe3\\x82\\x82\\xe6\\x97\\xa9\\xe3\\x81\\x8f1 [Kisu Yorimo Hayaku 1] (Faster than a Kiss #1)',\n",
              "       b'\\xe7\\xbe\\x8e\\xe5\\xb0\\x91\\xe5\\xa5\\xb3\\xe6\\x88\\xa6\\xe5\\xa3\\xab\\xe3\\x82\\xbb\\xe3\\x83\\xbc\\xe3\\x83\\xa9\\xe3\\x83\\xbc\\xe3\\x83\\xa0\\xe3\\x83\\xbc\\xe3\\x83\\xb3\\xe6\\x96\\xb0\\xe8\\xa3\\x85\\xe7\\x89\\x88 1 [Bish\\xc5\\x8djo Senshi Sailor Moon Shins\\xc5\\x8dban 1]'],\n",
              "      dtype=object)"
            ]
          },
          "metadata": {
            "tags": []
          },
          "execution_count": 25
        }
      ]
    },
    {
      "cell_type": "markdown",
      "metadata": {
        "id": "SI-hnkWuNpIS"
      },
      "source": [
        "We need to do decode for values"
      ]
    },
    {
      "cell_type": "code",
      "metadata": {
        "id": "4xYfvfnkY2K3"
      },
      "source": [
        "unique_books_titles = np.array([x.decode('utf-8') for x in unique_books_titles])"
      ],
      "execution_count": 26,
      "outputs": []
    },
    {
      "cell_type": "code",
      "metadata": {
        "colab": {
          "base_uri": "https://localhost:8080/"
        },
        "id": "fPEV-5JAEiXb",
        "outputId": "9ca838a1-0632-4d71-d5d6-01d4a493d20b"
      },
      "source": [
        "unique_books_titles"
      ],
      "execution_count": 27,
      "outputs": [
        {
          "output_type": "execute_result",
          "data": {
            "text/plain": [
              "array([' Angels (Walsh Family, #3)',\n",
              "       '\"حكايات فرغلي المستكاوي \"حكايتى مع كفر السحلاوية', '#GIRLBOSS',\n",
              "       ..., 'ڤيرتيجو',\n",
              "       'キスよりも早く1 [Kisu Yorimo Hayaku 1] (Faster than a Kiss #1)',\n",
              "       '美少女戦士セーラームーン新装版 1 [Bishōjo Senshi Sailor Moon Shinsōban 1]'],\n",
              "      dtype='<U186')"
            ]
          },
          "metadata": {
            "tags": []
          },
          "execution_count": 27
        }
      ]
    },
    {
      "cell_type": "code",
      "metadata": {
        "id": "TRMjISGh-ZqF"
      },
      "source": [
        "unique_user_ids = np.unique(np.concatenate(list(ratings.batch(1_000).map(lambda x: x[\"user_id\"]))))"
      ],
      "execution_count": 28,
      "outputs": []
    },
    {
      "cell_type": "code",
      "metadata": {
        "id": "69EaK6C43dbJ",
        "colab": {
          "base_uri": "https://localhost:8080/"
        },
        "outputId": "6e75c153-f9af-4bb4-9644-15adcc58e703"
      },
      "source": [
        "unique_user_ids"
      ],
      "execution_count": 29,
      "outputs": [
        {
          "output_type": "execute_result",
          "data": {
            "text/plain": [
              "array([b'1', b'10', b'100', ..., b'9997', b'9998', b'9999'], dtype=object)"
            ]
          },
          "metadata": {
            "tags": []
          },
          "execution_count": 29
        }
      ]
    },
    {
      "cell_type": "markdown",
      "metadata": {
        "id": "pxXEsqN5tqc8"
      },
      "source": [
        "# Model definition"
      ]
    },
    {
      "cell_type": "markdown",
      "metadata": {
        "id": "fbeJslt5tuS1"
      },
      "source": [
        "## Query model"
      ]
    },
    {
      "cell_type": "markdown",
      "metadata": {
        "id": "tPxYE3ikt6Us"
      },
      "source": [
        "We start with the user model defined in the <a href=\"https://www.tensorflow.org/recommenders/examples/featurization\">featurization tutorial</a> as the first layer of our model, tasked with converting raw input examples into feature embeddings."
      ]
    },
    {
      "cell_type": "code",
      "metadata": {
        "id": "z_ZXDYeszvw6"
      },
      "source": [
        "class UserModel(tf.keras.Model):\n",
        "\n",
        "  def __init__(self):\n",
        "    super().__init__()\n",
        "\n",
        "    self.user_embedding = tf.keras.Sequential([\n",
        "        tf.keras.layers.experimental.preprocessing.StringLookup(\n",
        "            vocabulary=unique_user_ids, mask_token=None),\n",
        "        tf.keras.layers.Embedding(len(unique_user_ids) + 1, 32),\n",
        "    ])\n",
        "\n",
        "\n",
        "  def call(self, inputs):\n",
        "    # Take the input dictionary, pass it through each input layer,\n",
        "    # and concatenate the result.\n",
        "    return tf.concat([\n",
        "        self.user_embedding(inputs[\"user_id\"]),], axis=1)\n"
      ],
      "execution_count": 30,
      "outputs": []
    },
    {
      "cell_type": "markdown",
      "metadata": {
        "id": "HAjqfnAA6xsA"
      },
      "source": [
        "We will use ReLU activations for all but the last hidden layer. The final hidden layer does not use any activation function: using an activation function would limit the output space of the final embeddings and might negatively impact the performance of the model. For instance, if ReLUs are used in the projection layer, all components in the output embedding would be non-negative."
      ]
    },
    {
      "cell_type": "code",
      "metadata": {
        "id": "_ZuvtF7y2TY0"
      },
      "source": [
        "class QueryModel(tf.keras.Model):\n",
        "  \"\"\"Model for encoding user queries.\"\"\"\n",
        "\n",
        "  def __init__(self, layer_sizes):\n",
        "    \"\"\"Model for encoding user queries.\n",
        "\n",
        "    Args:\n",
        "      layer_sizes:\n",
        "        A list of integers where the i-th entry represents the number of units\n",
        "        the i-th layer contains.\n",
        "    \"\"\"\n",
        "    super().__init__()\n",
        "\n",
        "    # We first use the user model for generating embeddings.\n",
        "    self.embedding_model = UserModel()\n",
        "\n",
        "    # Then construct the layers.\n",
        "    self.dense_layers = tf.keras.Sequential()\n",
        "\n",
        "    # Use the ReLU activation for all but the last layer.\n",
        "    for layer_size in layer_sizes[:-1]:\n",
        "      self.dense_layers.add(tf.keras.layers.Dense(layer_size, activation=\"relu\"))\n",
        "\n",
        "    # No activation for the last layer.\n",
        "    for layer_size in layer_sizes[-1:]:\n",
        "      self.dense_layers.add(tf.keras.layers.Dense(layer_size))\n",
        "\n",
        "  def call(self, inputs):\n",
        "    feature_embedding = self.embedding_model(inputs)\n",
        "    return self.dense_layers(feature_embedding)"
      ],
      "execution_count": 31,
      "outputs": []
    },
    {
      "cell_type": "markdown",
      "metadata": {
        "id": "TET-lo6B7B-l"
      },
      "source": [
        "The layer_sizes parameter gives us the depth and width of the model. We can vary it to experiment with shallower or deeper models."
      ]
    },
    {
      "cell_type": "markdown",
      "metadata": {
        "id": "Vonrgrtq7IVP"
      },
      "source": [
        "## Candidate model"
      ]
    },
    {
      "cell_type": "markdown",
      "metadata": {
        "id": "S-2rIjPI7QWM"
      },
      "source": [
        "We can adopt the same approach for the bookmodel. Again, we start with the MovieModel from the <a href=\"https://www.tensorflow.org/recommenders/examples/featurization\">featurization tutorial</a>:"
      ]
    },
    {
      "cell_type": "code",
      "metadata": {
        "id": "7UphzwJl3J1x"
      },
      "source": [
        "class BookModel(tf.keras.Model):\n",
        "\n",
        "  def __init__(self):\n",
        "    super().__init__()\n",
        "\n",
        "    max_tokens = 10_000\n",
        "\n",
        "    self.title_embedding = tf.keras.Sequential([\n",
        "      tf.keras.layers.experimental.preprocessing.StringLookup(\n",
        "          vocabulary=unique_books_titles,mask_token=None),\n",
        "      tf.keras.layers.Embedding(len(unique_books_titles) + 1, 32)\n",
        "    ])\n",
        "\n",
        "    self.title_vectorizer = tf.keras.layers.experimental.preprocessing.TextVectorization(\n",
        "        max_tokens=max_tokens)\n",
        "\n",
        "    self.title_text_embedding = tf.keras.Sequential([\n",
        "      self.title_vectorizer,\n",
        "      tf.keras.layers.Embedding(max_tokens, 32, mask_zero=True),\n",
        "      tf.keras.layers.GlobalAveragePooling1D(),\n",
        "    ])\n",
        "\n",
        "    self.title_vectorizer.adapt(books)\n",
        "\n",
        "  def call(self, titles):\n",
        "    return tf.concat([\n",
        "        self.title_embedding(titles),\n",
        "        self.title_text_embedding(titles),\n",
        "    ], axis=1)"
      ],
      "execution_count": 32,
      "outputs": []
    },
    {
      "cell_type": "markdown",
      "metadata": {
        "id": "krs4fuFR7bKN"
      },
      "source": [
        "And expand it with hidden layers:"
      ]
    },
    {
      "cell_type": "code",
      "metadata": {
        "id": "H3vL_3OL_R4d"
      },
      "source": [
        "class CandidateModel(tf.keras.Model):\n",
        "  \"\"\"Model for encoding books.\"\"\"\n",
        "\n",
        "  def __init__(self, layer_sizes):\n",
        "    \"\"\"Model for encoding books.\n",
        "\n",
        "    Args:\n",
        "      layer_sizes:\n",
        "        A list of integers where the i-th entry represents the number of units\n",
        "        the i-th layer contains.\n",
        "    \"\"\"\n",
        "    super().__init__()\n",
        "\n",
        "    self.embedding_model = BookModel()\n",
        "\n",
        "    # Then construct the layers.\n",
        "    self.dense_layers = tf.keras.Sequential()\n",
        "\n",
        "    # Use the ReLU activation for all but the last layer.\n",
        "    for layer_size in layer_sizes[:-1]:\n",
        "      self.dense_layers.add(tf.keras.layers.Dense(layer_size, activation=\"relu\"))\n",
        "\n",
        "    # No activation for the last layer.\n",
        "    for layer_size in layer_sizes[-1:]:\n",
        "      self.dense_layers.add(tf.keras.layers.Dense(layer_size))\n",
        "\n",
        "  def call(self, inputs):\n",
        "    feature_embedding = self.embedding_model(inputs)\n",
        "    return self.dense_layers(feature_embedding)"
      ],
      "execution_count": 33,
      "outputs": []
    },
    {
      "cell_type": "markdown",
      "metadata": {
        "id": "5_ZO3aEY7fQd"
      },
      "source": [
        "## Combined model"
      ]
    },
    {
      "cell_type": "markdown",
      "metadata": {
        "id": "zc58qDk87gNs"
      },
      "source": [
        "With both QueryModel and CandidateModel defined, we can put together a combined model and implement our loss and metrics logic. To make things simple, we'll enforce that the model structure is the same across the query and candidate models."
      ]
    },
    {
      "cell_type": "code",
      "metadata": {
        "id": "V_ufXz1__gab"
      },
      "source": [
        "class BooklensModel(tfrs.models.Model):\n",
        "\n",
        "  def __init__(self, layer_sizes):\n",
        "    super().__init__()\n",
        "    self.query_model = QueryModel(layer_sizes)\n",
        "    self.candidate_model = CandidateModel(layer_sizes)\n",
        "    self.task = tfrs.tasks.Retrieval(\n",
        "        metrics=tfrs.metrics.FactorizedTopK(\n",
        "            candidates=books.batch(128).map(self.candidate_model),\n",
        "        ),\n",
        "    )\n",
        "\n",
        "  def compute_loss(self, features, training=False):\n",
        "    # We only pass the user id and timestamp features into the query model. This\n",
        "    # is to ensure that the training inputs would have the same keys as the\n",
        "    # query inputs. Otherwise the discrepancy in input structure would cause an\n",
        "    # error when loading the query model after saving it.\n",
        "    query_embeddings = self.query_model({\n",
        "        'user_id': features['user_id'],\n",
        "        'book_id': features['book_id'],\n",
        "        'rating': features['rating'],\n",
        "\n",
        "    })\n",
        "    \n",
        "    book_embeddings = self.candidate_model(features[\"title\"])\n",
        "\n",
        "    return self.task(\n",
        "        query_embeddings, book_embeddings, compute_metrics=not training)"
      ],
      "execution_count": 34,
      "outputs": []
    },
    {
      "cell_type": "markdown",
      "metadata": {
        "id": "uLBEYXGE7sj9"
      },
      "source": [
        "# Training the model"
      ]
    },
    {
      "cell_type": "markdown",
      "metadata": {
        "id": "XzWkbCAO7tU7"
      },
      "source": [
        "## Prepare the data"
      ]
    },
    {
      "cell_type": "markdown",
      "metadata": {
        "id": "7T5gFc9vJxi9"
      },
      "source": [
        "To fit and evaluate the model, we need to split it into a training and evaluation set.\n",
        "\n",
        "In this example, we use a random split, putting 80% of the ratings in the train set, and 20% in the test set."
      ]
    },
    {
      "cell_type": "code",
      "metadata": {
        "id": "WthHvxCiADVd"
      },
      "source": [
        "tf.random.set_seed(42)\n",
        "shuffled = ratings.shuffle(100_000, seed=42, reshuffle_each_iteration=False)\n",
        "\n",
        "train = shuffled.take(80_000)\n",
        "test = shuffled.skip(80_000).take(20_000)"
      ],
      "execution_count": 35,
      "outputs": []
    },
    {
      "cell_type": "markdown",
      "metadata": {
        "id": "vZTrF3QyJ2kd"
      },
      "source": [
        "Number of epochs used"
      ]
    },
    {
      "cell_type": "code",
      "metadata": {
        "id": "wXotECrkS19V"
      },
      "source": [
        "num_epochs = 300"
      ],
      "execution_count": 36,
      "outputs": []
    },
    {
      "cell_type": "markdown",
      "metadata": {
        "id": "QchMTGypQH1Q"
      },
      "source": [
        "# Fitting and evaluating"
      ]
    },
    {
      "cell_type": "markdown",
      "metadata": {
        "id": "mYNQwqUAQNZA"
      },
      "source": [
        "After defining the model, we can use standard Keras fitting and evaluation routines to fit and evaluate the model."
      ]
    },
    {
      "cell_type": "markdown",
      "metadata": {
        "id": "j-k3qQfIQSY4"
      },
      "source": [
        "Let's first instantiate the model."
      ]
    },
    {
      "cell_type": "code",
      "metadata": {
        "id": "_6JQZhrQQTNU"
      },
      "source": [
        "model = BooklensModel([32])\n",
        "model.compile(optimizer=tf.keras.optimizers.Adagrad(0.1))"
      ],
      "execution_count": 37,
      "outputs": []
    },
    {
      "cell_type": "markdown",
      "metadata": {
        "id": "Y0OdxtGoQfGi"
      },
      "source": [
        "Then shuffle, batch, and cache the training and evaluation data."
      ]
    },
    {
      "cell_type": "code",
      "metadata": {
        "id": "um1j4r1fQf1w"
      },
      "source": [
        "cached_train = train.shuffle(100_000).batch(2048)\n",
        "cached_test = test.batch(4096).cache()"
      ],
      "execution_count": 38,
      "outputs": []
    },
    {
      "cell_type": "markdown",
      "metadata": {
        "id": "L2TXFTaNQoSn"
      },
      "source": [
        "Then train the model:"
      ]
    },
    {
      "cell_type": "code",
      "metadata": {
        "id": "ER8q9Q8uAJ-9",
        "colab": {
          "base_uri": "https://localhost:8080/"
        },
        "outputId": "025170c3-ac7c-4c23-e7e1-6734d5a6b8b5"
      },
      "source": [
        "one_layer_history = model.fit(\n",
        "    cached_train,\n",
        "    validation_data=cached_test,\n",
        "    validation_freq=5,\n",
        "    epochs=num_epochs,\n",
        "    verbose=0)\n",
        "\n",
        "accuracy = one_layer_history.history[\"val_factorized_top_k/top_100_categorical_accuracy\"][-1]\n",
        "print(f\"Top-100 accuracy: {accuracy:.2f}.\")"
      ],
      "execution_count": 39,
      "outputs": [
        {
          "output_type": "stream",
          "text": [
            "WARNING:tensorflow:From /usr/local/lib/python3.7/dist-packages/tensorflow/python/ops/array_ops.py:5049: calling gather (from tensorflow.python.ops.array_ops) with validate_indices is deprecated and will be removed in a future version.\n",
            "Instructions for updating:\n",
            "The `validate_indices` argument has no effect. Indices are always validated on CPU and never validated on GPU.\n",
            "Top-100 accuracy: 0.20.\n"
          ],
          "name": "stdout"
        }
      ]
    },
    {
      "cell_type": "markdown",
      "metadata": {
        "id": "aTa6cKm67-CF"
      },
      "source": [
        "This gives us a top-100 accuracy of around 0.2, we can use this as a reference point for evaluating deeper models."
      ]
    },
    {
      "cell_type": "markdown",
      "metadata": {
        "id": "T73Wsom5STpv"
      },
      "source": [
        "As the model trains, the loss is falling and a set of top-k retrieval metrics is updated. These tell us whether the true positive is in the top-k retrieved items from the entire candidate set. For example, a top-5 categorical accuracy metric of 0.2 would tell us that, on average, the true positive is in the top 5 retrieved items 20% of the time."
      ]
    },
    {
      "cell_type": "markdown",
      "metadata": {
        "id": "SO5xb_jWG5O_"
      },
      "source": [
        "# Evaluate model"
      ]
    },
    {
      "cell_type": "markdown",
      "metadata": {
        "id": "axdlNd4KSKE4"
      },
      "source": [
        "Finally, we can evaluate our model on the test set:"
      ]
    },
    {
      "cell_type": "code",
      "metadata": {
        "colab": {
          "base_uri": "https://localhost:8080/"
        },
        "id": "mhHYJIBSSLZy",
        "outputId": "bfb295c2-9edf-4eaf-8344-1b4a73a984b1"
      },
      "source": [
        "model.evaluate(cached_test, return_dict=True)"
      ],
      "execution_count": 40,
      "outputs": [
        {
          "output_type": "stream",
          "text": [
            "5/5 [==============================] - 13s 3s/step - factorized_top_k/top_1_categorical_accuracy: 4.5000e-04 - factorized_top_k/top_5_categorical_accuracy: 0.0022 - factorized_top_k/top_10_categorical_accuracy: 0.0083 - factorized_top_k/top_50_categorical_accuracy: 0.0897 - factorized_top_k/top_100_categorical_accuracy: 0.2019 - loss: 54856.9134 - regularization_loss: 0.0000e+00 - total_loss: 54856.9134\n"
          ],
          "name": "stdout"
        },
        {
          "output_type": "execute_result",
          "data": {
            "text/plain": [
              "{'factorized_top_k/top_100_categorical_accuracy': 0.20190000534057617,\n",
              " 'factorized_top_k/top_10_categorical_accuracy': 0.008349999785423279,\n",
              " 'factorized_top_k/top_1_categorical_accuracy': 0.00044999999227002263,\n",
              " 'factorized_top_k/top_50_categorical_accuracy': 0.08969999849796295,\n",
              " 'factorized_top_k/top_5_categorical_accuracy': 0.0022499999031424522,\n",
              " 'loss': 51176.1953125,\n",
              " 'regularization_loss': 0,\n",
              " 'total_loss': 51176.1953125}"
            ]
          },
          "metadata": {
            "tags": []
          },
          "execution_count": 40
        }
      ]
    },
    {
      "cell_type": "markdown",
      "metadata": {
        "id": "cVvvB1Z8FbCh"
      },
      "source": [
        "Test set performance is much worse than training performance. This is due to two factors:\n",
        "\n",
        "This model is likely to perform better on the data that it has seen, simply because it can memorize it. This overfitting phenomenon is especially strong when models have many parameters. It can be mediated by model regularization and use of user and book features that help the model generalize better to unseen data.\n",
        "\n",
        "The second phenomenon can be tackled by excluding previously seen books from test recommendations. "
      ]
    },
    {
      "cell_type": "markdown",
      "metadata": {
        "id": "IzW6sNIY8GNd"
      },
      "source": [
        "# Deeper model"
      ]
    },
    {
      "cell_type": "code",
      "metadata": {
        "id": "TqTNylcYcWdQ",
        "colab": {
          "base_uri": "https://localhost:8080/"
        },
        "outputId": "b4b9cb4c-90e9-490c-88e3-079337258fa0"
      },
      "source": [
        "model = BooklensModel([64, 32])\n",
        "model.compile(optimizer=tf.keras.optimizers.Adagrad(0.1))\n",
        "\n",
        "two_layer_history = model.fit(\n",
        "    cached_train,\n",
        "    validation_data=cached_test,\n",
        "    validation_freq=5,\n",
        "    epochs=num_epochs,\n",
        "    verbose=0)\n",
        "\n",
        "accuracy = two_layer_history.history[\"val_factorized_top_k/top_100_categorical_accuracy\"][-1]\n",
        "print(f\"Top-100 accuracy: {accuracy:.2f}.\")"
      ],
      "execution_count": 41,
      "outputs": [
        {
          "output_type": "stream",
          "text": [
            "Top-100 accuracy: 0.15.\n"
          ],
          "name": "stdout"
        }
      ]
    },
    {
      "cell_type": "markdown",
      "metadata": {
        "id": "DDBdoJC68Zzt"
      },
      "source": [
        "The accuracy here is 0.16, a little lower than the shallow shape."
      ]
    },
    {
      "cell_type": "markdown",
      "metadata": {
        "id": "a1Fgq3Z18Okc"
      },
      "source": [
        "We can plot the validation accuracy curves to illustrate this:"
      ]
    },
    {
      "cell_type": "code",
      "metadata": {
        "id": "3VW0KtfdjMPN",
        "colab": {
          "base_uri": "https://localhost:8080/",
          "height": 308
        },
        "outputId": "ccfa0c50-c482-4524-a4ae-c71f1b195df2"
      },
      "source": [
        "num_validation_runs = len(one_layer_history.history[\"val_factorized_top_k/top_100_categorical_accuracy\"])\n",
        "epochs = [(x + 1)* 5 for x in range(num_validation_runs)]\n",
        "\n",
        "plt.plot(epochs, one_layer_history.history[\"val_factorized_top_k/top_100_categorical_accuracy\"], label=\"1 layer\")\n",
        "plt.plot(epochs, two_layer_history.history[\"val_factorized_top_k/top_100_categorical_accuracy\"], label=\"2 layers\")\n",
        "plt.title(\"Accuracy vs epoch\")\n",
        "plt.xlabel(\"epoch\")\n",
        "plt.ylabel(\"Top-100 accuracy\");\n",
        "plt.legend()"
      ],
      "execution_count": 42,
      "outputs": [
        {
          "output_type": "execute_result",
          "data": {
            "text/plain": [
              "<matplotlib.legend.Legend at 0x7f1b9a352850>"
            ]
          },
          "metadata": {
            "tags": []
          },
          "execution_count": 42
        },
        {
          "output_type": "display_data",
          "data": {
            "image/png": "[encoded data removed]",
            "text/plain": [
              "<Figure size 432x288 with 1 Axes>"
            ]
          },
          "metadata": {
            "tags": []
          }
        }
      ]
    },
    {
      "cell_type": "code",
      "metadata": {
        "id": "vvUdvE2mluGO",
        "colab": {
          "base_uri": "https://localhost:8080/"
        },
        "outputId": "7599d2a3-ef23-410d-cac9-8c3e4e0c8136"
      },
      "source": [
        "model = BooklensModel([128, 64, 32])\n",
        "model.compile(optimizer=tf.keras.optimizers.Adagrad(0.1))\n",
        "\n",
        "three_layer_history = model.fit(\n",
        "    cached_train,\n",
        "    validation_data=cached_test,\n",
        "    validation_freq=5,\n",
        "    epochs=num_epochs,\n",
        "    verbose=0)\n",
        "\n",
        "accuracy = three_layer_history.history[\"val_factorized_top_k/top_100_categorical_accuracy\"][-1]\n",
        "print(f\"Top-100 accuracy: {accuracy:.2f}.\")"
      ],
      "execution_count": 64,
      "outputs": [
        {
          "output_type": "stream",
          "text": [
            "Top-100 accuracy: 0.12.\n"
          ],
          "name": "stdout"
        }
      ]
    },
    {
      "cell_type": "markdown",
      "metadata": {
        "id": "gnTGk3B1Wv8y"
      },
      "source": [
        "In fact, we don't see improvement over the shallow model."
      ]
    },
    {
      "cell_type": "code",
      "metadata": {
        "id": "fam3EsezicKw",
        "colab": {
          "base_uri": "https://localhost:8080/",
          "height": 308
        },
        "outputId": "1feb8172-003e-492b-c5cf-e33784f15705"
      },
      "source": [
        "plt.plot(epochs, one_layer_history.history[\"val_factorized_top_k/top_100_categorical_accuracy\"], label=\"1 layer\")\n",
        "plt.plot(epochs, two_layer_history.history[\"val_factorized_top_k/top_100_categorical_accuracy\"], label=\"2 layers\")\n",
        "plt.plot(epochs, three_layer_history.history[\"val_factorized_top_k/top_100_categorical_accuracy\"], label=\"3 layers\")\n",
        "plt.title(\"Accuracy vs epoch\")\n",
        "plt.xlabel(\"epoch\")\n",
        "plt.ylabel(\"Top-100 accuracy\");\n",
        "plt.legend()"
      ],
      "execution_count": 65,
      "outputs": [
        {
          "output_type": "execute_result",
          "data": {
            "text/plain": [
              "<matplotlib.legend.Legend at 0x7f87d7707fd0>"
            ]
          },
          "metadata": {
            "tags": []
          },
          "execution_count": 65
        },
        {
          "output_type": "display_data",
          "data": {
            "image/png": "[encoded data removed]",
            "text/plain": [
              "<Figure size 432x288 with 1 Axes>"
            ]
          },
          "metadata": {
            "tags": []
          }
        }
      ]
    },
    {
      "cell_type": "markdown",
      "metadata": {
        "id": "b2p8BecUJNLI"
      },
      "source": [
        "# conclusion"
      ]
    },
    {
      "cell_type": "markdown",
      "metadata": {
        "id": "fsG0SCf3JOpQ"
      },
      "source": [
        "The best accuracy was with one layer. We note whenever we increment one layer, the accuracy decrement, but when we add number of epochs the accuracy increment.\n",
        "\n",
        "The deeper and larger models, while capable of superior performance, often require very careful tuning. \n",
        "\n",
        "With appropriate tuning and sufficient data, the effort put into building larger and deeper models is in many cases well worth it: larger models can lead to substantial improvements in prediction accuracy."
      ]
    }
  ]
}